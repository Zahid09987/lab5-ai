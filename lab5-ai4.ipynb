{
 "cells": [
  {
   "cell_type": "markdown",
   "metadata": {},
   "source": [
    "# **Wrapper-based Feature Selection using ``RFE``**"
   ]
  },
  {
   "cell_type": "code",
   "execution_count": 1,
   "metadata": {},
   "outputs": [
    {
     "name": "stdout",
     "output_type": "stream",
     "text": [
      "Feature Selection using RFE:\n",
      "              Feature  Ranking\n",
      "2  petal length (cm)        1\n",
      "3   petal width (cm)        1\n",
      "0  sepal length (cm)        2\n",
      "1   sepal width (cm)        3\n"
     ]
    }
   ],
   "source": [
    "import numpy as np\n",
    "import pandas as pd\n",
    "from sklearn.datasets import load_iris\n",
    "from sklearn.feature_selection import RFE\n",
    "from sklearn.ensemble import RandomForestClassifier\n",
    "\n",
    "iris = load_iris()\n",
    "x = iris.data\n",
    "y = iris.target\n",
    "feature_names = iris.feature_names\n",
    "\n",
    "model = RandomForestClassifier(n_estimators=100, random_state=42)\n",
    "\n",
    "rfe = RFE(estimator=model, n_features_to_select=2)\n",
    "fit = rfe.fit(x, y)\n",
    "\n",
    "feature_ranking = pd.DataFrame({\"Feature\": feature_names, \"Ranking\": fit.ranking_})\n",
    "feature_ranking = feature_ranking.sort_values(by=\"Ranking\")\n",
    "\n",
    "print(\"Feature Selection using RFE:\\n\", feature_ranking)"
   ]
  }
 ],
 "metadata": {
  "kernelspec": {
   "display_name": "sklearn-env",
   "language": "python",
   "name": "python3"
  },
  "language_info": {
   "codemirror_mode": {
    "name": "ipython",
    "version": 3
   },
   "file_extension": ".py",
   "mimetype": "text/x-python",
   "name": "python",
   "nbconvert_exporter": "python",
   "pygments_lexer": "ipython3",
   "version": "3.13.2"
  }
 },
 "nbformat": 4,
 "nbformat_minor": 2
}
