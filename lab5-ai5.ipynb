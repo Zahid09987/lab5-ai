{
 "cells": [
  {
   "cell_type": "markdown",
   "metadata": {},
   "source": [
    "# **Embedded Methods using ``Lasso`` Regression (L1 Regularization)**"
   ]
  },
  {
   "cell_type": "code",
   "execution_count": 1,
   "metadata": {},
   "outputs": [
    {
     "name": "stdout",
     "output_type": "stream",
     "text": [
      "Lasso Regression Feature Selection:\n",
      "   Feature  Coefficient\n",
      "2     bmi   517.186795\n",
      "8      s5   483.912648\n",
      "3      bp   275.077235\n",
      "9      s6    33.673965\n",
      "0     age    -0.000000\n",
      "5      s2    -0.000000\n",
      "7      s4     0.000000\n",
      "4      s1   -52.539365\n",
      "1     sex  -155.359976\n",
      "6      s3  -210.157991\n"
     ]
    }
   ],
   "source": [
    "from sklearn.linear_model import Lasso\n",
    "from sklearn.datasets import load_diabetes\n",
    "import pandas as pd\n",
    "\n",
    "diabetes = load_diabetes()\n",
    "x, y = diabetes.data, diabetes.target\n",
    "feature_names = diabetes.feature_names\n",
    "\n",
    "lasso = Lasso(alpha=0.1)\n",
    "lasso.fit(x, y)\n",
    "\n",
    "feature_importance = pd.DataFrame({\"Feature\": feature_names, \"Coefficient\": lasso.coef_})\n",
    "feature_importance = feature_importance.sort_values(by=\"Coefficient\", ascending=False)\n",
    "\n",
    "print(\"Lasso Regression Feature Selection:\\n\", feature_importance)"
   ]
  }
 ],
 "metadata": {
  "kernelspec": {
   "display_name": "sklearn-env",
   "language": "python",
   "name": "python3"
  },
  "language_info": {
   "codemirror_mode": {
    "name": "ipython",
    "version": 3
   },
   "file_extension": ".py",
   "mimetype": "text/x-python",
   "name": "python",
   "nbconvert_exporter": "python",
   "pygments_lexer": "ipython3",
   "version": "3.13.2"
  }
 },
 "nbformat": 4,
 "nbformat_minor": 2
}
