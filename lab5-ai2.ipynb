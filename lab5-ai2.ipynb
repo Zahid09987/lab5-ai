{
 "cells": [
  {
   "cell_type": "markdown",
   "metadata": {},
   "source": [
    "# **Univariate Selection (Statistical)**"
   ]
  },
  {
   "cell_type": "code",
   "execution_count": 2,
   "metadata": {},
   "outputs": [
    {
     "name": "stdout",
     "output_type": "stream",
     "text": [
      "Top Features in the Iris Dataset:\n",
      "              Feature       Score\n",
      "2  petal length (cm)  116.312613\n",
      "3   petal width (cm)   67.048360\n",
      "0  sepal length (cm)   10.817821\n",
      "1   sepal width (cm)    3.710728\n",
      "\n",
      "Transformed Dataset with Selected Features:\n",
      " [[1.4 0.2]\n",
      " [1.4 0.2]\n",
      " [1.3 0.2]\n",
      " [1.5 0.2]\n",
      " [1.4 0.2]]\n"
     ]
    }
   ],
   "source": [
    "import numpy as np\n",
    "import pandas as pd\n",
    "from sklearn.datasets import load_iris\n",
    "from sklearn.feature_selection import SelectKBest, chi2\n",
    "\n",
    "iris = load_iris()\n",
    "x = iris.data\n",
    "y = iris.target\n",
    "feature_names = iris.feature_names\n",
    "\n",
    "bestfeatures = SelectKBest(score_func=chi2, k=2)\n",
    "fit = bestfeatures.fit(x, y)\n",
    "\n",
    "feature_scores = pd.DataFrame({\"Feature\": feature_names, \"Score\": fit.scores_})\n",
    "feature_scores = feature_scores.sort_values(by=\"Score\", ascending=False)\n",
    "\n",
    "print(\"Top Features in the Iris Dataset:\\n\", feature_scores)\n",
    "\n",
    "x_new = bestfeatures.transform(x)\n",
    "print(\"\\nTransformed Dataset with Selected Features:\\n\", x_new[:5])"
   ]
  }
 ],
 "metadata": {
  "kernelspec": {
   "display_name": "sklearn-env",
   "language": "python",
   "name": "python3"
  },
  "language_info": {
   "codemirror_mode": {
    "name": "ipython",
    "version": 3
   },
   "file_extension": ".py",
   "mimetype": "text/x-python",
   "name": "python",
   "nbconvert_exporter": "python",
   "pygments_lexer": "ipython3",
   "version": "3.13.2"
  }
 },
 "nbformat": 4,
 "nbformat_minor": 2
}
